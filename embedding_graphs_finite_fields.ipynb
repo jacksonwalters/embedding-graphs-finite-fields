{
 "cells": [
  {
   "cell_type": "code",
   "execution_count": 1,
   "id": "15e97d1a-2f28-46b7-97bd-bf7fcb4cb391",
   "metadata": {},
   "outputs": [],
   "source": [
    "#note that the adjacency matrix for a graph is a 0/1 matrix\n",
    "#0/1 exists in any field, so we can view A \\in (F_p)^{n^2} \\cong F_{p^{n^2}} = F_q\n",
    "#thus every adjacency matrix A can be viewed as an element of F_q"
   ]
  },
  {
   "cell_type": "code",
   "execution_count": null,
   "id": "b870a72c-34d6-40fe-bcdb-5d990dd7eabc",
   "metadata": {},
   "outputs": [],
   "source": []
  }
 ],
 "metadata": {
  "kernelspec": {
   "display_name": "Python 3 (ipykernel)",
   "language": "python",
   "name": "python3"
  },
  "language_info": {
   "codemirror_mode": {
    "name": "ipython",
    "version": 3
   },
   "file_extension": ".py",
   "mimetype": "text/x-python",
   "name": "python",
   "nbconvert_exporter": "python",
   "pygments_lexer": "ipython3",
   "version": "3.9.6"
  }
 },
 "nbformat": 4,
 "nbformat_minor": 5
}
