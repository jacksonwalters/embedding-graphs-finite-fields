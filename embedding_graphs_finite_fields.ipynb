{
 "cells": [
  {
   "cell_type": "code",
   "execution_count": 1,
   "id": "15e97d1a-2f28-46b7-97bd-bf7fcb4cb391",
   "metadata": {},
   "outputs": [],
   "source": [
    "#note that the adjacency matrix for a graph is a 0/1 matrix\n",
    "#0/1 exists in any field, so we can view A \\in (F_p)^{n^2} \\cong F_{p^{n^2}} = F_q\n",
    "#thus every adjacency matrix A can be viewed as an element of F_q"
   ]
  },
  {
   "cell_type": "code",
   "execution_count": 65,
   "id": "b870a72c-34d6-40fe-bcdb-5d990dd7eabc",
   "metadata": {},
   "outputs": [],
   "source": [
    "from sage.misc.flatten import flatten\n",
    "def graph_embedding(A,p):\n",
    "    try:\n",
    "        assert p in Primes() #make sure p is prime\n",
    "    except AssertionError:\n",
    "        print(\"p must be prime\")\n",
    "        return\n",
    "    n = len(A) #get the number of columns of A\n",
    "    q = p**(n**2) #compute q=p^{n^2}\n",
    "    alpha = GF(q).gen() #get a primitive element for the finite field F_q\n",
    "    flat_A = flatten(A) #make the adjacency matrix into a list\n",
    "    try:\n",
    "        assert all(flat_A[k] == 0 or flat_A[k] == 1 for k in range(n^2)) #ensure A is an adjacency matrix\n",
    "    except AssertionError:\n",
    "        print(\"A must be a 0/1 adjacency matrix\")\n",
    "        return\n",
    "    return sum([flat_A[k]*alpha**k for k in range(n^2)]) #let {1,alpha,...,alpha^{n^2-1}} be a basis and map the matrix into F_q"
   ]
  },
  {
   "cell_type": "code",
   "execution_count": 120,
   "id": "926438f2-e18c-4e7e-bd33-4cbad9045e04",
   "metadata": {},
   "outputs": [],
   "source": [
    "#naively find k such that alpha^k = x \n",
    "#where alpha is a generator for the finite field\n",
    "def gen_power(x):\n",
    "    alpha = x.parent().gen()\n",
    "    k = 0\n",
    "    while k < x.parent().order():\n",
    "        if alpha**k == x:\n",
    "            return k\n",
    "        else:\n",
    "            k += 1"
   ]
  },
  {
   "cell_type": "code",
   "execution_count": 114,
   "id": "8582e74b-f5b8-4984-970c-fe184d500013",
   "metadata": {},
   "outputs": [
    {
     "data": {
      "text/plain": [
       "625"
      ]
     },
     "execution_count": 114,
     "metadata": {},
     "output_type": "execute_result"
    }
   ],
   "source": [
    "graph_embedding([[1,0],[1,1]],5).parent().order()"
   ]
  },
  {
   "cell_type": "code",
   "execution_count": 101,
   "id": "8dc37182-b228-4ff7-8474-9daaf1136da7",
   "metadata": {},
   "outputs": [
    {
     "data": {
      "text/plain": [
       "624"
      ]
     },
     "execution_count": 101,
     "metadata": {},
     "output_type": "execute_result"
    }
   ],
   "source": [
    "graph_embedding([[1,0],[1,1]],5).multiplicative_order()"
   ]
  },
  {
   "cell_type": "code",
   "execution_count": 119,
   "id": "c0b1b431-e2e6-4f26-89ee-772c643eff8a",
   "metadata": {},
   "outputs": [
    {
     "data": {
      "text/plain": [
       "37"
      ]
     },
     "execution_count": 119,
     "metadata": {},
     "output_type": "execute_result"
    }
   ],
   "source": [
    "gen_power(graph_embedding([[1,1],[0,1]],5))"
   ]
  },
  {
   "cell_type": "code",
   "execution_count": null,
   "id": "3ad71f43-f5be-461f-b926-3d1803d0ae50",
   "metadata": {},
   "outputs": [],
   "source": []
  }
 ],
 "metadata": {
  "kernelspec": {
   "display_name": "SageMath 10.3",
   "language": "sage",
   "name": "sagemath-10.3"
  },
  "language_info": {
   "codemirror_mode": {
    "name": "ipython",
    "version": 3
   },
   "file_extension": ".py",
   "mimetype": "text/x-python",
   "name": "python",
   "nbconvert_exporter": "python",
   "pygments_lexer": "ipython3",
   "version": "3.11.1"
  }
 },
 "nbformat": 4,
 "nbformat_minor": 5
}
