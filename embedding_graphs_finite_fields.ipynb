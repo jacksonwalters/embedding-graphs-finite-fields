{
 "cells": [
  {
   "cell_type": "code",
   "execution_count": 1,
   "id": "15e97d1a-2f28-46b7-97bd-bf7fcb4cb391",
   "metadata": {},
   "outputs": [],
   "source": [
    "#note that the adjacency matrix for a graph is a 0/1 matrix\n",
    "#0/1 exists in any field, so we can view A \\in (F_p)^{n^2} \\cong F_{p^{n^2}} = F_q\n",
    "#thus every adjacency matrix A can be viewed as an element of F_q"
   ]
  },
  {
   "cell_type": "code",
   "execution_count": 51,
   "id": "b870a72c-34d6-40fe-bcdb-5d990dd7eabc",
   "metadata": {},
   "outputs": [],
   "source": [
    "from sage.misc.flatten import flatten\n",
    "def graph_embedding(A,p):\n",
    "    assert p in Primes()\n",
    "    n = len(A)\n",
    "    q = p**(n**2)\n",
    "    alpha = GF(q).gen()\n",
    "    flat_A = flatten(A)\n",
    "    return sum([flat_A[k]*alpha**k for k in range(n^2)])"
   ]
  },
  {
   "cell_type": "code",
   "execution_count": 52,
   "id": "8dc37182-b228-4ff7-8474-9daaf1136da7",
   "metadata": {},
   "outputs": [
    {
     "data": {
      "text/plain": [
       "z4^2 + z4"
      ]
     },
     "execution_count": 52,
     "metadata": {},
     "output_type": "execute_result"
    }
   ],
   "source": [
    "graph_embedding([[0,1],[1,0]],5)"
   ]
  },
  {
   "cell_type": "code",
   "execution_count": null,
   "id": "c0b1b431-e2e6-4f26-89ee-772c643eff8a",
   "metadata": {},
   "outputs": [],
   "source": []
  }
 ],
 "metadata": {
  "kernelspec": {
   "display_name": "SageMath 10.3",
   "language": "sage",
   "name": "sagemath-10.3"
  },
  "language_info": {
   "codemirror_mode": {
    "name": "ipython",
    "version": 3
   },
   "file_extension": ".py",
   "mimetype": "text/x-python",
   "name": "python",
   "nbconvert_exporter": "python",
   "pygments_lexer": "ipython3",
   "version": "3.11.1"
  }
 },
 "nbformat": 4,
 "nbformat_minor": 5
}
