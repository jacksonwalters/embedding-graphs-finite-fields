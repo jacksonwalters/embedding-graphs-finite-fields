{
 "cells": [
  {
   "cell_type": "code",
   "execution_count": 1,
   "id": "15e97d1a-2f28-46b7-97bd-bf7fcb4cb391",
   "metadata": {},
   "outputs": [],
   "source": [
    "#note that the adjacency matrix for a graph is a 0/1 matrix\n",
    "#0/1 exists in any field, so we can view A \\in (F_p)^{n^2} \\cong F_{p^{n^2}} = F_q\n",
    "#thus every adjacency matrix A can be viewed as an element of F_q"
   ]
  },
  {
   "cell_type": "code",
   "execution_count": 5,
   "id": "2012039f-5da7-459e-9a2c-19b4d1449999",
   "metadata": {},
   "outputs": [],
   "source": [
    "#determine if A is a 0/1 adjacency matrix with zeros on diagonal, symmetric\n",
    "from sage.misc.flatten import flatten\n",
    "def is_adj_matrix(A):\n",
    "    #deal with case A is list of lists or matrix\n",
    "    if type(A) == list:\n",
    "        flat_A = flatten(A) #make the adjacency matrix into a list\n",
    "        n = len(A) #get the number of columns of A\n",
    "    else:\n",
    "        flat_A = flatten([list(row) for row in A.rows()])\n",
    "        n = A.ncols()\n",
    "    zero_one = all(flat_A[k] == 0 or flat_A[k] == 1 for k in range(n^2))\n",
    "    symmetric = matrix(A) == matrix(A).transpose()\n",
    "    zero_diagonal = all(A[k][k] == 0 for k in range(n))\n",
    "    return zero_one and symmetric and zero_diagonal"
   ]
  },
  {
   "cell_type": "code",
   "execution_count": 6,
   "id": "b870a72c-34d6-40fe-bcdb-5d990dd7eabc",
   "metadata": {},
   "outputs": [],
   "source": [
    "#given an adjacency matrix A and a prime p\n",
    "#embed the graph A into F_q where q=p^{n^2} and n is the number of vertices\n",
    "def graph_embedding(A,p):\n",
    "    try:\n",
    "        assert p in Primes() #make sure p is prime\n",
    "    except AssertionError:\n",
    "        print(\"p must be prime\")\n",
    "        return\n",
    "    if type(A) == list:\n",
    "        n = len(A) #get the number of columns of A\n",
    "        flat_A = flatten(A) #make the adjacency matrix into a list\n",
    "    else:\n",
    "        n = A.ncols()\n",
    "        flat_A = flatten([list(row) for row in A.rows()])\n",
    "    q = p**(n**2) #compute q=p^{n^2}\n",
    "    alpha = GF(q).gen() #get a primitive element for the finite field F_q\n",
    "    try:\n",
    "        assert is_adj_matrix(A) #ensure A is an adjacency matrix\n",
    "    except AssertionError:\n",
    "        print(\"A must be a 0/1 adjacency matrix\")\n",
    "        return\n",
    "    return sum([flat_A[k]*alpha**k for k in range(n^2)]) #let {1,alpha,...,alpha^{n^2-1}} be a basis and map the matrix into F_q"
   ]
  },
  {
   "cell_type": "code",
   "execution_count": 7,
   "id": "926438f2-e18c-4e7e-bd33-4cbad9045e04",
   "metadata": {},
   "outputs": [],
   "source": [
    "#naively find k such that alpha^k = x \n",
    "#where alpha is a generator for the finite field\n",
    "def gen_power(x):\n",
    "    alpha = x.parent().gen()\n",
    "    k = 0\n",
    "    while k < x.parent().order():\n",
    "        if alpha**k == x:\n",
    "            return k\n",
    "        else:\n",
    "            k += 1"
   ]
  },
  {
   "cell_type": "code",
   "execution_count": 8,
   "id": "419e8a19-7331-4b0d-9c20-c4fda344f55c",
   "metadata": {},
   "outputs": [],
   "source": [
    "#compute all adjacency matrices\n",
    "def all_adj_mats(n,p):\n",
    "    all_zero_one_mats = [matrix(GF(3),A) for A in MatrixSpace(GF(2),n,n)] #compute all 0/1 matrices\n",
    "    return [A for A in all_zero_one_mats if is_adj_matrix(A)]"
   ]
  },
  {
   "cell_type": "code",
   "execution_count": 9,
   "id": "1b7cf5aa-6c8b-434a-8b0c-50621366d848",
   "metadata": {},
   "outputs": [],
   "source": [
    "#compute integer corresponding to adjacency matrix\n",
    "def graph_int(A,p):\n",
    "    return gen_power(graph_embedding(A,p))"
   ]
  },
  {
   "cell_type": "code",
   "execution_count": 50,
   "id": "69698e3e-b8e3-47c2-9715-6ec39e4b8527",
   "metadata": {},
   "outputs": [],
   "source": [
    "#compute the integer corresponding to a labeled graph given as an adjacency matrix\n",
    "def graph_int(A):\n",
    "    try:\n",
    "        assert is_adj_matrix(A)\n",
    "    except AssertionError:\n",
    "        print(\"A must be 0/1 adjacency matrix\")\n",
    "    if type(A) == list:\n",
    "        flat_A = flatten(A) #make the adjacency matrix into a list\n",
    "        n = len(A) #get the number of columns of A\n",
    "    else:\n",
    "        n = A.ncols()\n",
    "        flat_A = flatten([list(row) for row in A.rows()])\n",
    "    return flatten([[A[i][j]*2**unique_int_pair(n,i+1,j+1) for j in range(i+1,n)] for i in range(n)])"
   ]
  },
  {
   "cell_type": "code",
   "execution_count": 43,
   "id": "21f9412c-d244-4e3a-8ae9-5a26f10d4774",
   "metadata": {},
   "outputs": [],
   "source": [
    "\n",
    "def unique_int_pair(n,i,j):\n",
    "    return sum(n-k for k in range(1,i)) + (j-i)"
   ]
  },
  {
   "cell_type": "code",
   "execution_count": 30,
   "id": "98fe7e1e-8284-4682-a682-dc4f806c926a",
   "metadata": {},
   "outputs": [
    {
     "name": "stdout",
     "output_type": "stream",
     "text": [
      "0 1\n",
      "0 2\n",
      "1 2\n"
     ]
    },
    {
     "data": {
      "text/plain": [
       "[2, 4, 8]"
      ]
     },
     "execution_count": 30,
     "metadata": {},
     "output_type": "execute_result"
    }
   ],
   "source": [
    "graph_int([[0,1,1],[1,0,1],[1,1,0]])"
   ]
  },
  {
   "cell_type": "code",
   "execution_count": 142,
   "id": "22b5235d-e8ed-49ab-9d25-6dbe162b09ab",
   "metadata": {},
   "outputs": [
    {
     "data": {
      "text/plain": [
       "z4^2 + z4"
      ]
     },
     "execution_count": 142,
     "metadata": {},
     "output_type": "execute_result"
    }
   ],
   "source": [
    "graph_embedding([[0,1],[1,0]],3)"
   ]
  },
  {
   "cell_type": "code",
   "execution_count": 241,
   "id": "534824e7-c68c-41e7-9ad2-bcf641cc1e67",
   "metadata": {},
   "outputs": [
    {
     "data": {
      "text/plain": [
       "[0 0 0]\n",
       "[0 0 1]\n",
       "[0 1 0]"
      ]
     },
     "execution_count": 241,
     "metadata": {},
     "output_type": "execute_result"
    }
   ],
   "source": [
    "all_adj_mats(3,3)[3]"
   ]
  },
  {
   "cell_type": "code",
   "execution_count": 246,
   "id": "6543622b-fb58-4dc0-b8be-7c5164e2ccba",
   "metadata": {},
   "outputs": [
    {
     "data": {
      "text/plain": [
       "[None, 29]"
      ]
     },
     "execution_count": 246,
     "metadata": {},
     "output_type": "execute_result"
    }
   ],
   "source": [
    "[graph_int(A,3) for A in all_adj_mats(2,2)]"
   ]
  },
  {
   "cell_type": "code",
   "execution_count": 249,
   "id": "96434ef2-2783-4674-a732-2f21f5400c61",
   "metadata": {},
   "outputs": [
    {
     "data": {
      "text/plain": [
       "[\n",
       "[0 0 0]  [0 1 0]  [0 0 1]  [0 0 0]  [0 1 1]  [0 1 0]  [0 0 1]  [0 1 1]\n",
       "[0 0 0]  [1 0 0]  [0 0 0]  [0 0 1]  [1 0 0]  [1 0 1]  [0 0 1]  [1 0 1]\n",
       "[0 0 0], [0 0 0], [1 0 0], [0 1 0], [1 0 0], [0 1 0], [1 1 0], [1 1 0]\n",
       "]"
      ]
     },
     "execution_count": 249,
     "metadata": {},
     "output_type": "execute_result"
    }
   ],
   "source": [
    "all_adj_mats(3,3)"
   ]
  },
  {
   "cell_type": "code",
   "execution_count": 244,
   "id": "f619570c-d4a9-4612-99ca-016ffbc1987c",
   "metadata": {},
   "outputs": [
    {
     "data": {
      "text/plain": [
       "[None, 18215, 7275, 18219, 13255, 5806, 17393, 15584]"
      ]
     },
     "execution_count": 244,
     "metadata": {},
     "output_type": "execute_result"
    }
   ],
   "source": [
    "[graph_int(A,3) for A in all_adj_mats(3,3)]"
   ]
  },
  {
   "cell_type": "code",
   "execution_count": null,
   "id": "546257a3-b21e-4a6c-80b4-c9e6c9a1d30d",
   "metadata": {},
   "outputs": [],
   "source": []
  }
 ],
 "metadata": {
  "kernelspec": {
   "display_name": "SageMath 10.3",
   "language": "sage",
   "name": "sagemath-10.3"
  },
  "language_info": {
   "codemirror_mode": {
    "name": "ipython",
    "version": 3
   },
   "file_extension": ".py",
   "mimetype": "text/x-python",
   "name": "python",
   "nbconvert_exporter": "python",
   "pygments_lexer": "ipython3",
   "version": "3.11.1"
  }
 },
 "nbformat": 4,
 "nbformat_minor": 5
}
