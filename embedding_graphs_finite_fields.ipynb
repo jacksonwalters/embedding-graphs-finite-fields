{
 "cells": [
  {
   "cell_type": "code",
   "execution_count": 1,
   "id": "15e97d1a-2f28-46b7-97bd-bf7fcb4cb391",
   "metadata": {},
   "outputs": [],
   "source": [
    "#note that the adjacency matrix for a graph is a 0/1 matrix\n",
    "#0/1 exists in any field, so we can view A \\in (F_p)^{n^2} \\cong F_{p^{n^2}} = F_q\n",
    "#thus every adjacency matrix A can be viewed as an element of F_q"
   ]
  },
  {
   "cell_type": "code",
   "execution_count": 228,
   "id": "2012039f-5da7-459e-9a2c-19b4d1449999",
   "metadata": {},
   "outputs": [],
   "source": [
    "#determine if A is a 0/1 adjacency matrix with zeros on diagonal, symmetric\n",
    "from sage.misc.flatten import flatten\n",
    "def is_adj_matrix(A):\n",
    "    #deal with case A is list of lists or matrix\n",
    "    if type(A) == list:\n",
    "        flat_A = flatten(A) #make the adjacency matrix into a list\n",
    "        n = len(A) #get the number of columns of A\n",
    "    else:\n",
    "        flat_A = flatten([list(row) for row in A.rows()])\n",
    "        n = A.ncols()\n",
    "    zero_one = all(flat_A[k] == 0 or flat_A[k] == 1 for k in range(n^2)); print(zero_one)\n",
    "    symmetric = matrix(A) == matrix(A).transpose(); print(symmetric)\n",
    "    zero_diagonal = all(A[k][k] == 0 for k in range(n)); print(zero_diagonal)\n",
    "    return zero_one and symmetric and zero_diagonal"
   ]
  },
  {
   "cell_type": "code",
   "execution_count": 229,
   "id": "b870a72c-34d6-40fe-bcdb-5d990dd7eabc",
   "metadata": {},
   "outputs": [],
   "source": [
    "def graph_embedding(A,p):\n",
    "    try:\n",
    "        assert p in Primes() #make sure p is prime\n",
    "    except AssertionError:\n",
    "        print(\"p must be prime\")\n",
    "        return\n",
    "    if type(A) == list:\n",
    "        n = len(A) #get the number of columns of A\n",
    "        flat_A = flatten(A) #make the adjacency matrix into a list\n",
    "    else:\n",
    "        n = A.ncols()\n",
    "        flat_A = flatten([list(row) for row in A.rows()])\n",
    "    q = p**(n**2) #compute q=p^{n^2}\n",
    "    alpha = GF(q).gen() #get a primitive element for the finite field F_q\n",
    "    try:\n",
    "        assert is_adj_matrix(A) #ensure A is an adjacency matrix\n",
    "    except AssertionError:\n",
    "        print(\"A must be a 0/1 adjacency matrix\")\n",
    "        return\n",
    "    return sum([flat_A[k]*alpha**k for k in range(n^2)]) #let {1,alpha,...,alpha^{n^2-1}} be a basis and map the matrix into F_q"
   ]
  },
  {
   "cell_type": "code",
   "execution_count": 146,
   "id": "926438f2-e18c-4e7e-bd33-4cbad9045e04",
   "metadata": {},
   "outputs": [],
   "source": [
    "#naively find k such that alpha^k = x \n",
    "#where alpha is a generator for the finite field\n",
    "def gen_power(x):\n",
    "    alpha = x.parent().gen()\n",
    "    k = 0\n",
    "    while k < x.parent().order():\n",
    "        if alpha**k == x:\n",
    "            return k\n",
    "        else:\n",
    "            k += 1"
   ]
  },
  {
   "cell_type": "code",
   "execution_count": 142,
   "id": "22b5235d-e8ed-49ab-9d25-6dbe162b09ab",
   "metadata": {},
   "outputs": [
    {
     "data": {
      "text/plain": [
       "z4^2 + z4"
      ]
     },
     "execution_count": 142,
     "metadata": {},
     "output_type": "execute_result"
    }
   ],
   "source": [
    "graph_embedding([[0,1],[1,0]],3)"
   ]
  },
  {
   "cell_type": "code",
   "execution_count": 143,
   "id": "c0b1b431-e2e6-4f26-89ee-772c643eff8a",
   "metadata": {},
   "outputs": [
    {
     "data": {
      "text/plain": [
       "29"
      ]
     },
     "execution_count": 143,
     "metadata": {},
     "output_type": "execute_result"
    }
   ],
   "source": [
    "gen_power(graph_embedding([[0,1],[1,0]],3))"
   ]
  },
  {
   "cell_type": "code",
   "execution_count": 211,
   "id": "3ad71f43-f5be-461f-b926-3d1803d0ae50",
   "metadata": {},
   "outputs": [
    {
     "data": {
      "text/plain": [
       "[False,\n",
       " False,\n",
       " False,\n",
       " False,\n",
       " False,\n",
       " False,\n",
       " False,\n",
       " False,\n",
       " False,\n",
       " False,\n",
       " False,\n",
       " False,\n",
       " False,\n",
       " False,\n",
       " False,\n",
       " False]"
      ]
     },
     "execution_count": 211,
     "metadata": {},
     "output_type": "execute_result"
    }
   ],
   "source": [
    "#compute the integer associated to every adjacency matrix\n",
    "n = 2\n",
    "p = 3\n",
    "all_zero_one_mats = [matrix(GF(3),A) for A in MatrixSpace(GF(2),n,n)]\n",
    "[is_adj_matrix(A) for A in all_zero_one_mats]\n",
    "#all_adj_mats = [A if ]"
   ]
  },
  {
   "cell_type": "code",
   "execution_count": 230,
   "id": "534824e7-c68c-41e7-9ad2-bcf641cc1e67",
   "metadata": {},
   "outputs": [
    {
     "name": "stdout",
     "output_type": "stream",
     "text": [
      "True\n",
      "True\n",
      "True\n"
     ]
    },
    {
     "data": {
      "text/plain": [
       "True"
      ]
     },
     "execution_count": 230,
     "metadata": {},
     "output_type": "execute_result"
    }
   ],
   "source": [
    "is_adj_matrix(all_zero_one_mats[8])"
   ]
  },
  {
   "cell_type": "code",
   "execution_count": 223,
   "id": "5edfe999-71ff-47a8-b44a-61d82c76dee0",
   "metadata": {},
   "outputs": [],
   "source": [
    "zero_one = all(flat_A[k] == 0 or flat_A[k] == 1 for k in range(n^2))"
   ]
  },
  {
   "cell_type": "code",
   "execution_count": 227,
   "id": "55fa8e16-219a-4b55-b442-5c57f2b6ec62",
   "metadata": {},
   "outputs": [
    {
     "data": {
      "text/plain": [
       "[0, 1]"
      ]
     },
     "execution_count": 227,
     "metadata": {},
     "output_type": "execute_result"
    }
   ],
   "source": [
    "flat_A[0]"
   ]
  },
  {
   "cell_type": "code",
   "execution_count": null,
   "id": "f619570c-d4a9-4612-99ca-016ffbc1987c",
   "metadata": {},
   "outputs": [],
   "source": []
  }
 ],
 "metadata": {
  "kernelspec": {
   "display_name": "SageMath 10.3",
   "language": "sage",
   "name": "sagemath-10.3"
  },
  "language_info": {
   "codemirror_mode": {
    "name": "ipython",
    "version": 3
   },
   "file_extension": ".py",
   "mimetype": "text/x-python",
   "name": "python",
   "nbconvert_exporter": "python",
   "pygments_lexer": "ipython3",
   "version": "3.11.1"
  }
 },
 "nbformat": 4,
 "nbformat_minor": 5
}
