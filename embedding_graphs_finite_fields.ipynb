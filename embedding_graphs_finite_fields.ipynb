{
 "cells": [
  {
   "cell_type": "code",
   "execution_count": 2,
   "id": "15e97d1a-2f28-46b7-97bd-bf7fcb4cb391",
   "metadata": {},
   "outputs": [],
   "source": [
    "#note that the adjacency matrix for a graph is a 0/1 matrix\n",
    "#0/1 exists in any field, so we can view A \\in (F_p)^{n^2} \\cong F_{p^{n^2}} = F_q\n",
    "#thus every adjacency matrix A can be viewed as an element of F_q"
   ]
  },
  {
   "cell_type": "code",
   "execution_count": 3,
   "id": "2012039f-5da7-459e-9a2c-19b4d1449999",
   "metadata": {},
   "outputs": [],
   "source": [
    "#determine if A is a 0/1 adjacency matrix with zeros on diagonal, symmetric\n",
    "from sage.misc.flatten import flatten\n",
    "def is_adj_matrix(A):\n",
    "    #deal with case A is list of lists or matrix\n",
    "    if type(A) == list:\n",
    "        flat_A = flatten(A) #make the adjacency matrix into a list\n",
    "        n = len(A) #get the number of columns of A\n",
    "    else:\n",
    "        flat_A = flatten([list(row) for row in A.rows()])\n",
    "        n = A.ncols()\n",
    "    zero_one = all(flat_A[k] == 0 or flat_A[k] == 1 for k in range(n^2))\n",
    "    symmetric = matrix(A) == matrix(A).transpose()\n",
    "    zero_diagonal = all(A[k][k] == 0 for k in range(n))\n",
    "    return zero_one and symmetric and zero_diagonal"
   ]
  },
  {
   "cell_type": "code",
   "execution_count": 4,
   "id": "b870a72c-34d6-40fe-bcdb-5d990dd7eabc",
   "metadata": {},
   "outputs": [],
   "source": [
    "#given an adjacency matrix A and a prime p\n",
    "#embed the graph A into F_q where q=p^{n^2} and n is the number of vertices\n",
    "def graph_embedding(A,p):\n",
    "    try:\n",
    "        assert p in Primes() #make sure p is prime\n",
    "    except AssertionError:\n",
    "        print(\"p must be prime\")\n",
    "        return\n",
    "    if type(A) == list:\n",
    "        n = len(A) #get the number of columns of A\n",
    "        flat_A = flatten(A) #make the adjacency matrix into a list\n",
    "    else:\n",
    "        n = A.ncols()\n",
    "        flat_A = flatten([list(row) for row in A.rows()])\n",
    "    q = p**(n**2) #compute q=p^{n^2}\n",
    "    alpha = GF(q).gen() #get a primitive element for the finite field F_q\n",
    "    try:\n",
    "        assert is_adj_matrix(A) #ensure A is an adjacency matrix\n",
    "    except AssertionError:\n",
    "        print(\"A must be a 0/1 adjacency matrix\")\n",
    "        return\n",
    "    return sum([flat_A[k]*alpha**k for k in range(n^2)]) #let {1,alpha,...,alpha^{n^2-1}} be a basis and map the matrix into F_q"
   ]
  },
  {
   "cell_type": "code",
   "execution_count": 5,
   "id": "926438f2-e18c-4e7e-bd33-4cbad9045e04",
   "metadata": {},
   "outputs": [],
   "source": [
    "#naively find k such that alpha^k = x \n",
    "#where alpha is a generator for the finite field\n",
    "def gen_power(x):\n",
    "    alpha = x.parent().gen()\n",
    "    k = 0\n",
    "    while k < x.parent().order():\n",
    "        if alpha**k == x:\n",
    "            return k\n",
    "        else:\n",
    "            k += 1"
   ]
  },
  {
   "cell_type": "code",
   "execution_count": 6,
   "id": "419e8a19-7331-4b0d-9c20-c4fda344f55c",
   "metadata": {},
   "outputs": [],
   "source": [
    "#compute all adjacency matrices\n",
    "def all_adj_mats(n):\n",
    "    all_zero_one_mats = [matrix(ZZ,A) for A in MatrixSpace(GF(2),n,n)] #compute all 0/1 matrices\n",
    "    return [A for A in all_zero_one_mats if is_adj_matrix(A)]"
   ]
  },
  {
   "cell_type": "code",
   "execution_count": 7,
   "id": "1b7cf5aa-6c8b-434a-8b0c-50621366d848",
   "metadata": {},
   "outputs": [],
   "source": [
    "#compute integer corresponding to adjacency matrix\n",
    "def graph_int(A,p):\n",
    "    return gen_power(graph_embedding(A,p))"
   ]
  },
  {
   "cell_type": "code",
   "execution_count": 8,
   "id": "8c55222a-4e9f-4fa7-b2e1-186cd2555e59",
   "metadata": {},
   "outputs": [],
   "source": [
    "#assign a unique integer to the pair (i,j) as an element of a matrix\n",
    "#count number of elements to right of diagonal until you reach (i,j)\n",
    "def unique_int_pair(n,i,j):\n",
    "    return sum(n-k for k in range(1,i)) + (j-i)"
   ]
  },
  {
   "cell_type": "code",
   "execution_count": 9,
   "id": "69698e3e-b8e3-47c2-9715-6ec39e4b8527",
   "metadata": {},
   "outputs": [],
   "source": [
    "#compute the integer corresponding to a labeled graph given as an adjacency matrix A\n",
    "def graph_int_basic(A):\n",
    "    try:\n",
    "        assert is_adj_matrix(A)\n",
    "    except AssertionError:\n",
    "        print(\"A must be 0/1 adjacency matrix\")\n",
    "    if type(A) == list:\n",
    "        flat_A = flatten(A) #make the adjacency matrix into a list\n",
    "        n = len(A) #get the number of columns of A\n",
    "    else:\n",
    "        n = A.ncols()\n",
    "        flat_A = flatten([list(row) for row in A.rows()])\n",
    "    return sum(flatten([[A[i][j]*(2**unique_int_pair(n,i+1,j+1)) for j in range(i+1,n)] for i in range(n)]))"
   ]
  },
  {
   "cell_type": "code",
   "execution_count": 10,
   "id": "ec12c8af-ca08-479a-9b5e-75ad2d1b2f2e",
   "metadata": {},
   "outputs": [],
   "source": [
    "#compute the basic graph integer k and a generator for F_q alpha and compute alpha^k\n",
    "def graph_embedding_basic(A,p):\n",
    "    try:\n",
    "        assert is_adj_matrix(A)\n",
    "    except AssertionError:\n",
    "        print(\"A must be 0/1 adjacency matrix\")\n",
    "    if type(A) == list:\n",
    "        flat_A = flatten(A) #make the adjacency matrix into a list\n",
    "        n = len(A) #get the number of columns of A\n",
    "    else:\n",
    "        n = A.ncols()\n",
    "        flat_A = flatten([list(row) for row in A.rows()])\n",
    "    #ensure the cyclic group of size q-1 is at least as big as the number of graphs, 2^((n choose 2)+1)\n",
    "    r = 1\n",
    "    while p**r - 1 < 2**(binomial(n,2)+1):\n",
    "        r += 1\n",
    "    q = p**r\n",
    "    k = graph_int_basic(A)\n",
    "    K.<alpha> = GF(q,modulus=\"primitive\") #find a primitive generator of the multiplicative group of F_q\n",
    "    return alpha**k"
   ]
  },
  {
   "cell_type": "code",
   "execution_count": 11,
   "id": "546257a3-b21e-4a6c-80b4-c9e6c9a1d30d",
   "metadata": {},
   "outputs": [],
   "source": [
    "#define the action of the symmetric group on graphs\n",
    "#sigma is an element of the symmetric group, A is an adjacency matrix\n",
    "#returns sigma*A\n",
    "def sym_act(sigma,A):\n",
    "    try:\n",
    "        assert is_adj_matrix(A)\n",
    "    except AssertionError:\n",
    "        print(\"A must be 0/1 adjacency matrix\")\n",
    "    if type(A) == list:\n",
    "        A = matrix(A) #get the number of columns of A\n",
    "    n = A.ncols()\n",
    "    try:\n",
    "        assert sigma in SymmetricGroup(n)\n",
    "    except AssertionError():\n",
    "        print(\"sigma must be an element of the symmtric group\")\n",
    "    return sigma.matrix()*A*sigma.matrix().transpose()"
   ]
  },
  {
   "cell_type": "code",
   "execution_count": 12,
   "id": "b49cce99-5594-4b4e-8fd8-d33d54abf5c6",
   "metadata": {},
   "outputs": [],
   "source": [
    "#define function which hides the automorphism group of the adjacency matrix A\n",
    "#the output is an adjacency matrix embedded into a finite field\n",
    "def f_int(A,sigma):\n",
    "    return graph_int_basic(sym_act(sigma,A))"
   ]
  },
  {
   "cell_type": "code",
   "execution_count": 13,
   "id": "ad1764b8-297f-48eb-b6bf-98e702bd3cd7",
   "metadata": {},
   "outputs": [],
   "source": [
    "#return the graph embedding of sigma*A\n",
    "def f_embed(A,sigma,p):\n",
    "    return graph_embedding_basic(sym_act(sigma,A),p)"
   ]
  },
  {
   "cell_type": "code",
   "execution_count": 14,
   "id": "00f10dff-adbb-44b0-ba71-e4a7d4ae7dd8",
   "metadata": {},
   "outputs": [],
   "source": [
    "#compute the Fourier coefficients of f: S_n --> F_q using the SGA DFT\n",
    "def fourier_coefficients(A,p):\n",
    "    if type(A) == list:\n",
    "        A = matrix(A)\n",
    "    n = A.ncols()\n",
    "    sga_dft = SymmetricGroup(n).algebra(GF(p)).dft() #compute DFT of symmetric group algebra\n",
    "    f_list = [f_embed(A,sigma,p) for sigma in SymmetricGroup(n)] #compute f for all elements\n",
    "    return sga_dft*vector(f_list)"
   ]
  },
  {
   "cell_type": "code",
   "execution_count": 84,
   "id": "dc2e1c50-bd00-4920-8d73-1811b4b5b804",
   "metadata": {},
   "outputs": [],
   "source": [
    "#generate a random adjacency matrix on n vertices\n",
    "def random_adj_mat(n):\n",
    "    A = [[0 for j in range(n)] for i in range(n)]\n",
    "    for i in range(n):\n",
    "        for j in range(i+1,n):\n",
    "            A[i][j] = int(GF(2).random_element())\n",
    "    return matrix(A) + matrix(A).transpose()"
   ]
  },
  {
   "cell_type": "code",
   "execution_count": 87,
   "id": "2a8d9025-8083-4ece-ac7e-b0f09c391112",
   "metadata": {},
   "outputs": [
    {
     "data": {
      "text/plain": [
       "[0 1 0 1]\n",
       "[1 0 1 1]\n",
       "[0 1 0 1]\n",
       "[1 1 1 0]"
      ]
     },
     "execution_count": 87,
     "metadata": {},
     "output_type": "execute_result"
    }
   ],
   "source": [
    "random_adj_mat(4)"
   ]
  },
  {
   "cell_type": "code",
   "execution_count": 40,
   "id": "ccb7caef-9697-4431-adc6-01bbd7eb5013",
   "metadata": {},
   "outputs": [],
   "source": [
    "n=5; p=7"
   ]
  },
  {
   "cell_type": "code",
   "execution_count": 88,
   "id": "27286bab-9a2e-44d7-984e-b778219d15a6",
   "metadata": {},
   "outputs": [
    {
     "data": {
      "text/plain": [
       "[0 0 0 1]\n",
       "[0 0 0 1]\n",
       "[0 0 0 1]\n",
       "[1 1 1 0]"
      ]
     },
     "execution_count": 88,
     "metadata": {},
     "output_type": "execute_result"
    }
   ],
   "source": [
    "A = random_adj_mat(4); A"
   ]
  },
  {
   "cell_type": "code",
   "execution_count": 39,
   "id": "8aaed985-c218-4d03-97ad-7bc90abee232",
   "metadata": {},
   "outputs": [
    {
     "data": {
      "text/plain": [
       "82"
      ]
     },
     "execution_count": 39,
     "metadata": {},
     "output_type": "execute_result"
    }
   ],
   "source": [
    "graph_int_basic(A)"
   ]
  },
  {
   "cell_type": "code",
   "execution_count": 33,
   "id": "bf8d155c-3d3c-4d9e-b0e8-6b2b7a231e49",
   "metadata": {},
   "outputs": [
    {
     "data": {
      "text/plain": [
       "5*alpha^2 + 2*alpha + 1"
      ]
     },
     "execution_count": 33,
     "metadata": {},
     "output_type": "execute_result"
    }
   ],
   "source": [
    "graph_embedding_basic(A,p)"
   ]
  },
  {
   "cell_type": "code",
   "execution_count": 34,
   "id": "46a71022-d749-4be4-96e4-7c8b8dedad5f",
   "metadata": {},
   "outputs": [],
   "source": [
    "import matplotlib.pyplot as plt\n",
    "sym_group_index = [str(sigma) for sigma in SymmetricGroup(n)]\n",
    "f_int_list = [f_int(A,sigma) for sigma in SymmetricGroup(n)]"
   ]
  },
  {
   "cell_type": "code",
   "execution_count": 38,
   "id": "3f3d5f5c-1702-448a-9377-64b2ba409bf2",
   "metadata": {},
   "outputs": [
    {
     "data": {
      "text/plain": [
       "[82,\n",
       " 74,\n",
       " 82,\n",
       " 74,\n",
       " 56,\n",
       " 28,\n",
       " 56,\n",
       " 28,\n",
       " 100,\n",
       " 38,\n",
       " 100,\n",
       " 38,\n",
       " 98,\n",
       " 70,\n",
       " 98,\n",
       " 70,\n",
       " 52,\n",
       " 44,\n",
       " 52,\n",
       " 44,\n",
       " 88,\n",
       " 26,\n",
       " 88,\n",
       " 26]"
      ]
     },
     "execution_count": 38,
     "metadata": {},
     "output_type": "execute_result"
    }
   ],
   "source": [
    "f_int_list"
   ]
  },
  {
   "cell_type": "code",
   "execution_count": 35,
   "id": "9a40596c-02f5-4124-a69c-9630b9cc803a",
   "metadata": {},
   "outputs": [
    {
     "data": {
      "text/plain": [
       "<matplotlib.collections.PathCollection object at 0x1211d96d0>"
      ]
     },
     "execution_count": 35,
     "metadata": {},
     "output_type": "execute_result"
    },
    {
     "data": {
      "image/png": "[encoded data removed]",
      "text/plain": [
       "<Figure size 640x480 with 1 Axes>"
      ]
     },
     "metadata": {},
     "output_type": "display_data"
    }
   ],
   "source": [
    "plt.xticks(rotation=45, ha=\"right\")\n",
    "plt.scatter(sym_group_index,f_int_list)"
   ]
  },
  {
   "cell_type": "code",
   "execution_count": 37,
   "id": "ae30ce27-0a2f-46b9-8b0e-f936d97bdfc5",
   "metadata": {},
   "outputs": [
    {
     "data": {
      "text/plain": [
       "(2, 3*alpha^2 + 6*alpha + 5, 5*alpha^2 + 3*alpha + 6, 5*alpha^2 + 3*alpha + 6, 3*alpha^2 + 6*alpha, 5*alpha^2 + 3*alpha, 5*alpha^2 + 3*alpha, 4*alpha^2 + 5*alpha + 4, 2*alpha^2 + 6*alpha + 2, 2*alpha^2 + 6*alpha + 2, 4*alpha^2 + alpha, 5*alpha^2 + 6, 2*alpha^2 + 5*alpha + 6, 5*alpha^2 + 3*alpha + 4, alpha^2 + 4*alpha + 2, 3*alpha^2 + 5*alpha + 6, 6*alpha^2 + 3*alpha + 5, 5, 1, 2, 3*alpha^2 + 4*alpha + 4, 2*alpha^2 + 5*alpha + 5, 4*alpha^2 + 3*alpha + 3, alpha^2 + 2*alpha + 3)"
      ]
     },
     "execution_count": 37,
     "metadata": {},
     "output_type": "execute_result"
    }
   ],
   "source": [
    "fourier_coefficients(A,p)"
   ]
  },
  {
   "cell_type": "code",
   "execution_count": 36,
   "id": "78419cb0-8bcb-43ee-9763-7026cc40a758",
   "metadata": {},
   "outputs": [
    {
     "data": {
      "text/plain": [
       "[<matplotlib.lines.Line2D object at 0x1214a2b10>]"
      ]
     },
     "execution_count": 36,
     "metadata": {},
     "output_type": "execute_result"
    },
    {
     "data": {
      "image/png": "[encoded data removed]",
      "text/plain": [
       "<Figure size 640x480 with 1 Axes>"
      ]
     },
     "metadata": {},
     "output_type": "display_data"
    }
   ],
   "source": [
    "plt.plot([gen_power(x) for x in fourier_coefficients(A,p)],'r+')"
   ]
  },
  {
   "cell_type": "code",
   "execution_count": null,
   "id": "a211fc6b-b4b6-4c9f-92bd-93f44e0e10a1",
   "metadata": {},
   "outputs": [],
   "source": []
  }
 ],
 "metadata": {
  "kernelspec": {
   "display_name": "SageMath 10.3",
   "language": "sage",
   "name": "sagemath-10.3"
  },
  "language_info": {
   "codemirror_mode": {
    "name": "ipython",
    "version": 3
   },
   "file_extension": ".py",
   "mimetype": "text/x-python",
   "name": "python",
   "nbconvert_exporter": "python",
   "pygments_lexer": "ipython3",
   "version": "3.11.1"
  }
 },
 "nbformat": 4,
 "nbformat_minor": 5
}
